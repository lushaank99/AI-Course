{
 "cells": [
  {
   "cell_type": "code",
   "execution_count": 2,
   "metadata": {},
   "outputs": [],
   "source": [
    "import csv\n",
    "from collections import deque\n",
    "ind = 0\n",
    "conn = {}\n",
    "stline = {}\n",
    "dist = []"
   ]
  },
  {
   "cell_type": "code",
   "execution_count": 3,
   "metadata": {},
   "outputs": [],
   "source": [
    "def print_path(parent, des, sou):\n",
    "    path = [des]\n",
    "    while des != sou:\n",
    "        des = parent[des]\n",
    "        path.insert(0, des)\n",
    "    for num in path:\n",
    "        print(num)"
   ]
  },
  {
   "cell_type": "code",
   "execution_count": 4,
   "metadata": {},
   "outputs": [],
   "source": [
    "def find_bfs(conn, sou, des):\n",
    "    if sou == des:\n",
    "        print(sou)\n",
    "        return\n",
    "    \n",
    "    queue = deque([sou])\n",
    "    parent = {}\n",
    "    parent[sou] = sou\n",
    "    while queue:\n",
    "        currNode = queue.popleft()\n",
    "        for nei in conn[currNode]:\n",
    "            if nei == des:\n",
    "                parent[nei] = currNode\n",
    "                print_path(parent, nei, sou)\n",
    "                return\n",
    "            if nei not in parent:\n",
    "                parent[nei] = currNode\n",
    "                queue.append(nei)\n",
    "    print(\"No path found\")"
   ]
  },
  {
   "cell_type": "code",
   "execution_count": 5,
   "metadata": {},
   "outputs": [],
   "source": [
    "def find_dfs(conn, sou, des):\n",
    "    if sou == des:\n",
    "        print(sou)\n",
    "        return\n",
    "    \n",
    "    queue = deque([sou])\n",
    "    parent = {}\n",
    "    parent[sou] = sou\n",
    "    while queue:\n",
    "        currNode = queue.pop()\n",
    "        for nei in conn[currNode]:\n",
    "            if nei == des:\n",
    "                parent[nei] = currNode\n",
    "                print_path(parent, nei, sou)\n",
    "                return\n",
    "            if nei not in parent:\n",
    "                parent[nei] = currNode\n",
    "                queue.append(nei)\n",
    "    print(\"No path found\")"
   ]
  },
  {
   "cell_type": "code",
   "execution_count": 6,
   "metadata": {},
   "outputs": [],
   "source": [
    "def heuristic1(next_city, stline):\n",
    "    min_cost = 50000\n",
    "    for item in next_city:\n",
    "        if stline[item] < min_cost:\n",
    "            min_cost = stline[item]\n",
    "            city = item\n",
    "    return city"
   ]
  },
  {
   "cell_type": "code",
   "execution_count": 7,
   "metadata": {},
   "outputs": [],
   "source": [
    "def find_greedy(conn, stline, sou):\n",
    "    if sou == \"bengaluru\":\n",
    "        print(sou)\n",
    "        return\n",
    "    visited = []\n",
    "    visited.append(sou)\n",
    "    city = sou\n",
    "    print(city)\n",
    "    while len(visited) < 30:\n",
    "        next_city = []\n",
    "        for nei in conn[city]:\n",
    "            if nei == \"bengaluru\":\n",
    "                print(nei)\n",
    "                return\n",
    "            if nei not in visited:\n",
    "                next_city.append(nei)\n",
    "        city = heuristic1(next_city, stline)\n",
    "        visited.append(city)\n",
    "        print(city)\n",
    "    print(\"No Path Found\")\n",
    "    return"
   ]
  },
  {
   "cell_type": "code",
   "execution_count": 39,
   "metadata": {},
   "outputs": [],
   "source": [
    "def cost_fun(dist, city, city2):\n",
    "    for item in dist:\n",
    "        if (item[0] == city) and (item[1] == city2):\n",
    "            return float(item[2])\n",
    "        \n",
    "def heuristic2(next_city, stline, city, cost, dist):\n",
    "    min_cost = 100000\n",
    "    for item in next_city:\n",
    "        total_cost = 0\n",
    "        in_cost = cost_fun(dist, city, item)\n",
    "        total_cost = in_cost + cost + float(stline[item])\n",
    "        if total_cost < min_cost:\n",
    "            min_cost = total_cost\n",
    "            city2 = item\n",
    "    return city2"
   ]
  },
  {
   "cell_type": "code",
   "execution_count": 30,
   "metadata": {},
   "outputs": [],
   "source": [
    "def find_astar(conn, stline, sou, dist):\n",
    "    if sou == \"bengaluru\":\n",
    "        print(sou)\n",
    "        return\n",
    "    visited = []\n",
    "    visited.append(sou)\n",
    "    city = sou\n",
    "    cost = 0\n",
    "    print(city)\n",
    "    while len(visited) < 100:\n",
    "        next_city = []\n",
    "        if city == \"bengaluru\":\n",
    "            return\n",
    "        for nei in conn[city]:\n",
    "            if nei not in visited:\n",
    "                next_city.append(nei)\n",
    "        city2 = heuristic2(next_city, stline, city, cost, dist)\n",
    "        cost += cost_fun(dist, city, city2)\n",
    "        city = city2\n",
    "        visited.append(city)\n",
    "        print(city)\n",
    "    print(\"No path found\")\n",
    "    return"
   ]
  },
  {
   "cell_type": "code",
   "execution_count": 10,
   "metadata": {},
   "outputs": [
    {
     "name": "stdout",
     "output_type": "stream",
     "text": [
      "{'agartala': ['aizawl', 'dispur'], 'aizawl': ['agartala', 'imphal', 'dispur'], 'amaravati': ['hyderabad', 'bengaluru', 'chennai', 'bhubaneswar'], 'bengaluru': ['thiruvananthapuram', 'chennai', 'amaravati', 'hyderabad', 'panaji', 'mumbai'], 'bhopal': ['lucknow', 'jaipur', 'raipur', 'mumbai', 'gandhinagar'], 'bhubaneswar': ['kolkata', 'ranchi', 'raipur', 'hyderabad', 'amaravati'], 'chandigarh': ['shimla', 'srinagar', 'dehradun', 'jaipur', 'lucknow', 'delhi'], 'chennai': ['amaravati', 'thiruvananthapuram', 'bengaluru'], 'dehradun': ['shimla', 'lucknow', 'chandigarh'], 'delhi': ['chandigarh', 'lucknow'], 'dispur': ['kolkata', 'meghalaya', 'kohima', 'imphal', 'aizawl', 'shillong', 'agartala'], 'gandhinagar': ['jaipur', 'bhopal', 'mumbai'], 'gangtok': ['kolkata'], 'hyderabad': ['amaravati', 'bengaluru', 'mumbai', 'bhubaneswar', 'raipur'], 'imphal': ['kohima', 'aizawl', 'dispur'], 'itanagar': ['dispur', 'kohima'], 'jaipur': ['chandigarh', 'bhopal', 'lucknow', 'gandhinagar'], 'kohima': ['itanagar', 'dispur', 'imphal'], 'kolkata': ['ranchi', 'patna', 'gangtok', 'bhubaneswar', 'dispur'], 'lucknow': ['dehradun', 'delhi', 'shimla', 'patna', 'jaipur', 'raipur', 'bhopal', 'ranchi', 'chandigarh'], 'meghalaya': ['dispur'], 'mumbai': ['hyderabad', 'bengaluru', 'panaji', 'raipur', 'bhopal', 'gandhinagar'], 'panaji': ['bengaluru', 'mumbai'], 'patna': ['lucknow', 'ranchi', 'kolkata'], 'raipur': ['bhopal', 'lucknow', 'mumbai', 'ranchi', 'hyderabad', 'bhubaneswar'], 'ranchi': ['patna', 'lucknow', 'raipur', 'bhubaneswar', 'kolkata'], 'shillong': ['dispur'], 'shimla': ['srinagar', 'chandigarh', 'dehradun', 'lucknow'], 'srinagar': ['shimla', 'chandigarh'], 'thiruvananthapuram': ['chennai', 'bengaluru']} \n",
      " [['agartala', 'aizawl', '342'], ['agartala', 'dispur', '544'], ['aizawl', 'agartala', '342'], ['aizawl', 'imphal', '399'], ['aizawl', 'dispur', '462'], ['amaravati', 'hyderabad', '272'], ['amaravati', 'bengaluru', '649'], ['amaravati', 'chennai', '447'], ['amaravati', 'bhubaneswar', '819'], ['bengaluru', 'thiruvananthapuram', '731'], ['bengaluru', 'chennai', '347'], ['bengaluru', 'amaravati', '649'], ['bengaluru', 'hyderabad', '569'], ['bengaluru', 'panaji', '578'], ['bengaluru', 'mumbai', '980'], ['bhopal', 'lucknow', '615'], ['bhopal', 'jaipur', '598'], ['bhopal', 'raipur', '613'], ['bhopal', 'mumbai', '775'], ['bhopal', 'gandhinagar', '609'], ['bhubaneswar', 'kolkata', '444'], ['bhubaneswar', 'ranchi', '455'], ['bhubaneswar', 'raipur', '546'], ['bhubaneswar', 'hyderabad', '1056'], ['bhubaneswar', 'amaravati', '819'], ['chandigarh', 'shimla', '112'], ['chandigarh', 'srinagar', '498'], ['chandigarh', 'dehradun', '172'], ['chandigarh', 'jaipur', '508'], ['chandigarh', 'lucknow', '744'], ['chandigarh', 'delhi', '243'], ['chennai', 'amaravati', '447'], ['chennai', 'thiruvananthapuram', '771'], ['chennai', 'bengaluru', '347'], ['dehradun', 'shimla', '226'], ['dehradun', 'lucknow', '552'], ['dehradun', 'chandigarh', '172'], ['delhi', 'chandigarh', '243'], ['delhi', 'lucknow', '555'], ['dispur', 'kolkata', '1044'], ['dispur', 'meghalaya', '783'], ['dispur', 'kohima', '350'], ['dispur', 'imphal', '482'], ['dispur', 'aizawl', '462'], ['dispur', 'shillong', '91'], ['dispur', 'agartala', '536'], ['gandhinagar', 'jaipur', '634'], ['gandhinagar', 'bhopal', '609'], ['gandhinagar', 'mumbai', '545'], ['gangtok', 'kolkata', '675'], ['hyderabad', 'amaravati', '272'], ['hyderabad', 'bengaluru', '569'], ['hyderabad', 'mumbai', '711'], ['hyderabad', 'bhubaneswar', '1051'], ['hyderabad', 'raipur', '783'], ['imphal', 'kohima', '136'], ['imphal', 'aizawl', '399'], ['imphal', 'dispur', '482'], ['itanagar', 'dispur', '324'], ['itanagar', 'kohima', '321'], ['jaipur', 'chandigarh', '508'], ['jaipur', 'bhopal', '598'], ['jaipur', 'lucknow', '574'], ['jaipur', 'gandhinagar', '634'], ['kohima', 'itanagar', '321'], ['kohima', 'dispur', '350'], ['kohima', 'imphal', '136'], ['kolkata', 'ranchi', '395'], ['kolkata', 'patna', '395'], ['kolkata', 'gangtok', '675'], ['kolkata', 'bhubaneswar', '444'], ['kolkata', 'dispur', '1035'], ['lucknow', 'dehradun', '552'], ['lucknow', 'delhi', '555'], ['lucknow', 'shimla', '843'], ['lucknow', 'patna', '539'], ['lucknow', 'jaipur', '574'], ['lucknow', 'raipur', '810'], ['lucknow', 'bhopal', '615'], ['lucknow', 'ranchi', '710'], ['lucknow', 'chandigarh', '744'], ['meghalaya', 'dispur', '783'], ['mumbai', 'hyderabad', '711'], ['mumbai', 'bengaluru', '980'], ['mumbai', 'panaji', '571'], ['mumbai', 'raipur', '1091'], ['mumbai', 'bhopal', '776'], ['mumbai', 'gandhinagar', '553'], ['panaji', 'bengaluru', '578'], ['panaji', 'mumbai', '571'], ['patna', 'lucknow', '539'], ['patna', 'ranchi', '326'], ['patna', 'kolkata', '395'], ['raipur', 'bhopal', '613'], ['raipur', 'lucknow', '810'], ['raipur', 'mumbai', '1091'], ['raipur', 'ranchi', '580'], ['raipur', 'hyderabad', '779'], ['raipur', 'bhubaneswar', '546'], ['ranchi', 'patna', '326'], ['ranchi', 'lucknow', '710'], ['ranchi', 'raipur', '580'], ['ranchi', 'bhubaneswar', '455'], ['ranchi', 'kolkata', '395'], ['shillong', 'dispur', '91'], ['shimla', 'srinagar', '620'], ['shimla', 'chandigarh', '112'], ['shimla', 'dehradun', '226'], ['shimla', 'lucknow', '843'], ['srinagar', 'shimla', '620'], ['srinagar', 'chandigarh', '498'], ['thiruvananthapuram', 'chennai', '771'], ['thiruvananthapuram', 'bengaluru', '731']] \n",
      "\n",
      "{'agartala': 1881.38, 'aizawl': 1992.76, 'amaravati': 498.01, 'bengaluru': 0.0, 'bhopal': 1142.69, 'bhubaneswar': 1196.18, 'chandigarh': 1976.13, 'chennai': 284.74, 'dehradun': 1928.64, 'delhi': 1741.22, 'dispur': 2084.85, 'gandhinagar': 1252.37, 'gangtok': 1965.92, 'hyderabad': 497.05, 'imphal': 2162.48, 'itanagar': 2292.67, 'jaipur': 1561.59, 'kohima': 2231.96, 'kolkata': 1561.76, 'lucknow': 1581.77, 'meghalaya': 1247.02, 'mumbai': 837.83, 'panaji': 491.19, 'patna': 1612.1, 'raipur': 1015.75, 'ranchi': 1415.42, 'shillong': 2050.43, 'shimla': 2015.32, 'srinagar': 1921.61, 'thiruvananthapuram': 493.73}\n"
     ]
    }
   ],
   "source": [
    "fir_line = True\n",
    "with open(\"capitals.csv\", \"r\") as f:\n",
    "    data1 = csv.reader(f)\n",
    "    for row in data1:\n",
    "        if fir_line:\n",
    "            fir_line = False\n",
    "            continue\n",
    "        row[0] = row[0].casefold()\n",
    "        row[1] = row[1].casefold()\n",
    "        if row[0] in conn.keys():\n",
    "            conn[row[0]].append(row[1])\n",
    "        else:\n",
    "            conn[row[0]] = [row[1], ]\n",
    "        dist.append([row[0], row[1], row[2]])\n",
    "# print(conn, \"\\n\", dist, \"\\n\")\n",
    "\n",
    "\n",
    "fir_line = True\n",
    "with open(\"ban_dist.csv\", \"r\") as d:\n",
    "    data2 = csv.reader(d)\n",
    "    for row in data2:\n",
    "        if fir_line:\n",
    "            fir_line = False\n",
    "            continue\n",
    "        row[0] = row[0].casefold()\n",
    "        stline[row[0]] = float(row[2])\n",
    "# print(stline)"
   ]
  },
  {
   "cell_type": "code",
   "execution_count": 40,
   "metadata": {},
   "outputs": [
    {
     "name": "stdout",
     "output_type": "stream",
     "text": [
      "Enter your source city: delhi\n",
      "\n",
      "\n",
      "delhi\n",
      "lucknow\n",
      "raipur\n",
      "hyderabad\n",
      "bengaluru\n",
      "\n",
      "\n",
      "delhi\n",
      "lucknow \t 555.0\n",
      "bhopal \t 1170.0\n",
      "mumbai \t 1945.0\n",
      "bengaluru \t 2925.0\n",
      "\n",
      "\n"
     ]
    }
   ],
   "source": [
    "sou = input(\"Enter your source city: \")\n",
    "des = input(\"Enter your destination city: \")\n",
    "sou = sou.casefold()\n",
    "des = des.casefold()\n",
    "print(\"\\n\")\n",
    "find_bfs(conn, sou, des)\n",
    "print(\"\\n\")\n",
    "find_dfs(conn, sou, des)\n",
    "print(\"\\n\")\n",
    "find_greedy(conn, stline, sou)\n",
    "print(\"\\n\")\n",
    "find_astar(conn, stline, sou, dist)\n",
    "print(\"\\n\")\n",
    "# print (sou, des)"
   ]
  },
  {
   "cell_type": "code",
   "execution_count": null,
   "metadata": {},
   "outputs": [],
   "source": []
  }
 ],
 "metadata": {
  "kernelspec": {
   "display_name": "Python 3",
   "language": "python",
   "name": "python3"
  },
  "language_info": {
   "codemirror_mode": {
    "name": "ipython",
    "version": 3
   },
   "file_extension": ".py",
   "mimetype": "text/x-python",
   "name": "python",
   "nbconvert_exporter": "python",
   "pygments_lexer": "ipython3",
   "version": "3.7.3"
  }
 },
 "nbformat": 4,
 "nbformat_minor": 2
}
